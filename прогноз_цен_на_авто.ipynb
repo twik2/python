{
  "nbformat": 4,
  "nbformat_minor": 0,
  "metadata": {
    "colab": {
      "provenance": [],
      "authorship_tag": "ABX9TyPADy/rXxf/0ckwNt7uyQKp",
      "include_colab_link": true
    },
    "kernelspec": {
      "name": "python3",
      "display_name": "Python 3"
    },
    "language_info": {
      "name": "python"
    }
  },
  "cells": [
    {
      "cell_type": "markdown",
      "metadata": {
        "id": "view-in-github",
        "colab_type": "text"
      },
      "source": [
        "<a href=\"https://colab.research.google.com/github/twik2/python/blob/main/%D0%BF%D1%80%D0%BE%D0%B3%D0%BD%D0%BE%D0%B7_%D1%86%D0%B5%D0%BD_%D0%BD%D0%B0_%D0%B0%D0%B2%D1%82%D0%BE.ipynb\" target=\"_parent\"><img src=\"https://colab.research.google.com/assets/colab-badge.svg\" alt=\"Open In Colab\"/></a>"
      ]
    },
    {
      "cell_type": "markdown",
      "source": [
        "Загрузил архив из облачного хранилища и распаковывал"
      ],
      "metadata": {
        "id": "wIaZyRx52WI7"
      }
    },
    {
      "cell_type": "code",
      "source": [
        "! gdown --id 1tXhSXT3Ud__danFdIfC9m6U3OS8YSrql\n",
        "! unzip /content/db_cars_for_sales.zip"
      ],
      "metadata": {
        "id": "E5mpn74se9T_",
        "colab": {
          "base_uri": "https://localhost:8080/"
        },
        "outputId": "aec94afa-4c3d-4e48-a378-79b548a6194d"
      },
      "execution_count": null,
      "outputs": [
        {
          "output_type": "stream",
          "name": "stdout",
          "text": [
            "/usr/local/lib/python3.10/dist-packages/gdown/cli.py:121: FutureWarning: Option `--id` was deprecated in version 4.3.1 and will be removed in 5.0. You don't need to pass it anymore to use a file ID.\n",
            "  warnings.warn(\n",
            "Downloading...\n",
            "From: https://drive.google.com/uc?id=1tXhSXT3Ud__danFdIfC9m6U3OS8YSrql\n",
            "To: /content/db_cars_for_sales.zip\n",
            "100% 1.15M/1.15M [00:00<00:00, 58.9MB/s]\n",
            "Archive:  /content/db_cars_for_sales.zip\n",
            "  inflating: audi.csv                \n",
            "  inflating: bmw.csv                 \n",
            "  inflating: cclass.csv              \n",
            "  inflating: focus.csv               \n",
            "  inflating: ford.csv                \n",
            "  inflating: hyundi.csv              \n",
            "  inflating: merc.csv                \n",
            "  inflating: skoda.csv               \n",
            "  inflating: toyota.csv              \n",
            "  inflating: unclean cclass.csv      \n",
            "  inflating: unclean focus.csv       \n",
            "  inflating: vauxhall.csv            \n",
            "  inflating: vw.csv                  \n"
          ]
        }
      ]
    },
    {
      "cell_type": "markdown",
      "source": [
        "Подготовил файл для дальнейшей работы"
      ],
      "metadata": {
        "id": "BNgqd5O92fHi"
      }
    },
    {
      "cell_type": "code",
      "execution_count": null,
      "metadata": {
        "id": "BIk5MnJ7HbPF"
      },
      "outputs": [],
      "source": [
        "import pandas as pd\n",
        "import numpy as np\n",
        "import matplotlib.pyplot as plt\n",
        "import statsmodels.api as sm\n",
        "from google.colab import drive\n",
        "from sklearn.model_selection import train_test_split\n",
        "df1 = pd.read_csv('/content/audi.csv')\n",
        "df2 = pd.read_csv('/content/bmw.csv')\n",
        "df3 = pd.read_csv('/content/ford.csv')\n",
        "df4 = pd.read_csv('/content/merc.csv')\n",
        "df5 = pd.read_csv('/content/skoda.csv')\n",
        "df6 = pd.read_csv('/content/toyota.csv')\n",
        "df7 = pd.read_csv('/content/vauxhall.csv')\n",
        "df8 = pd.read_csv('/content/vw.csv')\n",
        "cars_brands = ['audi', 'bmw', 'ford', 'mercedes', 'skoda', 'toyota', 'opel', 'volkswagen']\n",
        "df1['brand']= cars_brands[0] #audi\n",
        "df2['brand']= cars_brands[1] #bmw\n",
        "df3['brand']= cars_brands[2] #mercedes\n",
        "df4['brand']= cars_brands[3] #ford\n",
        "df5['brand']= cars_brands[4] #skoda\n",
        "df6['brand']= cars_brands[5] #toyota\n",
        "df7['brand']= cars_brands[6] #opel(vauxhall)\n",
        "df8['brand']= cars_brands[7] #volkswagen\n",
        "df = pd.concat([df1, df2, df3, df4, df5, df6, df7, df8])\n",
        "df['engineSize/mpg'] = df['engineSize'] / df['mpg']\n",
        "#df_for_rfc = df\n",
        "df2 = pd.get_dummies(df.fuelType).astype(int)\n",
        "df3 = pd.get_dummies(df.transmission).astype(int)\n",
        "df4 = pd.get_dummies(df.model).astype(int)\n",
        "df5 = pd.get_dummies(df.brand).astype(int)\n",
        "df = pd.concat([df, df2, df3, df4, df5], axis=1)\n",
        "df = df.drop(['model', 'transmission', 'fuelType', 'brand'], axis = 1)\n",
        "df = df.reset_index(drop=True)\n",
        "df = df.loc[:,~df.columns.duplicated()].copy()\n",
        "df = df.drop(list(df.loc[:,df.sum() < 2]), axis = 1) #удаляю столбцы с единичными продаваемыми моделями\n",
        "df = df[~(df['year']>2023)].reset_index(drop = True) #удаляю строку с машиной \"из будущего\"\n",
        "df = df.drop_duplicates()\n",
        "X_train, X_test, Y_train, Y_test = train_test_split(df.drop('price', axis = 1), df['price'], test_size = 0.2, random_state = 100)\n",
        "X_train_not_for_ols = X_train.copy()\n",
        "Y_train_not_for_ols = Y_train.copy()\n",
        "X_test_not_for_ols = X_test.copy()\n",
        "Y_test_not_for_ols = Y_test.copy()"
      ]
    },
    {
      "cell_type": "code",
      "source": [
        "df.tail(10)"
      ],
      "metadata": {
        "colab": {
          "base_uri": "https://localhost:8080/",
          "height": 392
        },
        "id": "yMFdv-8XVv65",
        "outputId": "6578e25a-bf9b-4f28-d246-3802da7cd759"
      },
      "execution_count": null,
      "outputs": [
        {
          "output_type": "execute_result",
          "data": {
            "text/plain": [
              "       year  price  mileage  tax   mpg  engineSize  engineSize/mpg  Diesel  \\\n",
              "94316  2008   4995    65000  195  48.0         2.0        0.041667       1   \n",
              "94317  2008   3695   127000  280  34.5         2.0        0.057971       0   \n",
              "94318  2015  12495    41850  125  58.9         2.0        0.033956       1   \n",
              "94319  2014   8950    58000  125  58.9         2.0        0.033956       1   \n",
              "94320  2006   2995    92640  200  48.0         2.0        0.041667       1   \n",
              "94321  2012   5990    74000  125  58.9         2.0        0.033956       1   \n",
              "94322  2008   1799    88102  145  46.3         1.2        0.025918       0   \n",
              "94323  2009   1590    70000  200  42.0         1.4        0.033333       0   \n",
              "94324  2006   1250    82704  150  46.3         1.2        0.025918       0   \n",
              "94325  2007   2295    74000  145  46.3         1.2        0.025918       0   \n",
              "\n",
              "       Electric  Hybrid  ...   i3   i8  audi  bmw  ford  mercedes  opel  \\\n",
              "94316         0       0  ...    0    0     0    0     0         0     0   \n",
              "94317         0       0  ...    0    0     0    0     0         0     0   \n",
              "94318         0       0  ...    0    0     0    0     0         0     0   \n",
              "94319         0       0  ...    0    0     0    0     0         0     0   \n",
              "94320         0       0  ...    0    0     0    0     0         0     0   \n",
              "94321         0       0  ...    0    0     0    0     0         0     0   \n",
              "94322         0       0  ...    0    0     0    0     0         0     0   \n",
              "94323         0       0  ...    0    0     0    0     0         0     0   \n",
              "94324         0       0  ...    0    0     0    0     0         0     0   \n",
              "94325         0       0  ...    0    0     0    0     0         0     0   \n",
              "\n",
              "       skoda  toyota  volkswagen  \n",
              "94316      0       0           1  \n",
              "94317      0       0           1  \n",
              "94318      0       0           1  \n",
              "94319      0       0           1  \n",
              "94320      0       0           1  \n",
              "94321      0       0           1  \n",
              "94322      0       0           1  \n",
              "94323      0       0           1  \n",
              "94324      0       0           1  \n",
              "94325      0       0           1  \n",
              "\n",
              "[10 rows x 193 columns]"
            ],
            "text/html": [
              "\n",
              "\n",
              "  <div id=\"df-dda522c6-4581-4eec-b017-58544909b7e7\">\n",
              "    <div class=\"colab-df-container\">\n",
              "      <div>\n",
              "<style scoped>\n",
              "    .dataframe tbody tr th:only-of-type {\n",
              "        vertical-align: middle;\n",
              "    }\n",
              "\n",
              "    .dataframe tbody tr th {\n",
              "        vertical-align: top;\n",
              "    }\n",
              "\n",
              "    .dataframe thead th {\n",
              "        text-align: right;\n",
              "    }\n",
              "</style>\n",
              "<table border=\"1\" class=\"dataframe\">\n",
              "  <thead>\n",
              "    <tr style=\"text-align: right;\">\n",
              "      <th></th>\n",
              "      <th>year</th>\n",
              "      <th>price</th>\n",
              "      <th>mileage</th>\n",
              "      <th>tax</th>\n",
              "      <th>mpg</th>\n",
              "      <th>engineSize</th>\n",
              "      <th>engineSize/mpg</th>\n",
              "      <th>Diesel</th>\n",
              "      <th>Electric</th>\n",
              "      <th>Hybrid</th>\n",
              "      <th>...</th>\n",
              "      <th>i3</th>\n",
              "      <th>i8</th>\n",
              "      <th>audi</th>\n",
              "      <th>bmw</th>\n",
              "      <th>ford</th>\n",
              "      <th>mercedes</th>\n",
              "      <th>opel</th>\n",
              "      <th>skoda</th>\n",
              "      <th>toyota</th>\n",
              "      <th>volkswagen</th>\n",
              "    </tr>\n",
              "  </thead>\n",
              "  <tbody>\n",
              "    <tr>\n",
              "      <th>94316</th>\n",
              "      <td>2008</td>\n",
              "      <td>4995</td>\n",
              "      <td>65000</td>\n",
              "      <td>195</td>\n",
              "      <td>48.0</td>\n",
              "      <td>2.0</td>\n",
              "      <td>0.041667</td>\n",
              "      <td>1</td>\n",
              "      <td>0</td>\n",
              "      <td>0</td>\n",
              "      <td>...</td>\n",
              "      <td>0</td>\n",
              "      <td>0</td>\n",
              "      <td>0</td>\n",
              "      <td>0</td>\n",
              "      <td>0</td>\n",
              "      <td>0</td>\n",
              "      <td>0</td>\n",
              "      <td>0</td>\n",
              "      <td>0</td>\n",
              "      <td>1</td>\n",
              "    </tr>\n",
              "    <tr>\n",
              "      <th>94317</th>\n",
              "      <td>2008</td>\n",
              "      <td>3695</td>\n",
              "      <td>127000</td>\n",
              "      <td>280</td>\n",
              "      <td>34.5</td>\n",
              "      <td>2.0</td>\n",
              "      <td>0.057971</td>\n",
              "      <td>0</td>\n",
              "      <td>0</td>\n",
              "      <td>0</td>\n",
              "      <td>...</td>\n",
              "      <td>0</td>\n",
              "      <td>0</td>\n",
              "      <td>0</td>\n",
              "      <td>0</td>\n",
              "      <td>0</td>\n",
              "      <td>0</td>\n",
              "      <td>0</td>\n",
              "      <td>0</td>\n",
              "      <td>0</td>\n",
              "      <td>1</td>\n",
              "    </tr>\n",
              "    <tr>\n",
              "      <th>94318</th>\n",
              "      <td>2015</td>\n",
              "      <td>12495</td>\n",
              "      <td>41850</td>\n",
              "      <td>125</td>\n",
              "      <td>58.9</td>\n",
              "      <td>2.0</td>\n",
              "      <td>0.033956</td>\n",
              "      <td>1</td>\n",
              "      <td>0</td>\n",
              "      <td>0</td>\n",
              "      <td>...</td>\n",
              "      <td>0</td>\n",
              "      <td>0</td>\n",
              "      <td>0</td>\n",
              "      <td>0</td>\n",
              "      <td>0</td>\n",
              "      <td>0</td>\n",
              "      <td>0</td>\n",
              "      <td>0</td>\n",
              "      <td>0</td>\n",
              "      <td>1</td>\n",
              "    </tr>\n",
              "    <tr>\n",
              "      <th>94319</th>\n",
              "      <td>2014</td>\n",
              "      <td>8950</td>\n",
              "      <td>58000</td>\n",
              "      <td>125</td>\n",
              "      <td>58.9</td>\n",
              "      <td>2.0</td>\n",
              "      <td>0.033956</td>\n",
              "      <td>1</td>\n",
              "      <td>0</td>\n",
              "      <td>0</td>\n",
              "      <td>...</td>\n",
              "      <td>0</td>\n",
              "      <td>0</td>\n",
              "      <td>0</td>\n",
              "      <td>0</td>\n",
              "      <td>0</td>\n",
              "      <td>0</td>\n",
              "      <td>0</td>\n",
              "      <td>0</td>\n",
              "      <td>0</td>\n",
              "      <td>1</td>\n",
              "    </tr>\n",
              "    <tr>\n",
              "      <th>94320</th>\n",
              "      <td>2006</td>\n",
              "      <td>2995</td>\n",
              "      <td>92640</td>\n",
              "      <td>200</td>\n",
              "      <td>48.0</td>\n",
              "      <td>2.0</td>\n",
              "      <td>0.041667</td>\n",
              "      <td>1</td>\n",
              "      <td>0</td>\n",
              "      <td>0</td>\n",
              "      <td>...</td>\n",
              "      <td>0</td>\n",
              "      <td>0</td>\n",
              "      <td>0</td>\n",
              "      <td>0</td>\n",
              "      <td>0</td>\n",
              "      <td>0</td>\n",
              "      <td>0</td>\n",
              "      <td>0</td>\n",
              "      <td>0</td>\n",
              "      <td>1</td>\n",
              "    </tr>\n",
              "    <tr>\n",
              "      <th>94321</th>\n",
              "      <td>2012</td>\n",
              "      <td>5990</td>\n",
              "      <td>74000</td>\n",
              "      <td>125</td>\n",
              "      <td>58.9</td>\n",
              "      <td>2.0</td>\n",
              "      <td>0.033956</td>\n",
              "      <td>1</td>\n",
              "      <td>0</td>\n",
              "      <td>0</td>\n",
              "      <td>...</td>\n",
              "      <td>0</td>\n",
              "      <td>0</td>\n",
              "      <td>0</td>\n",
              "      <td>0</td>\n",
              "      <td>0</td>\n",
              "      <td>0</td>\n",
              "      <td>0</td>\n",
              "      <td>0</td>\n",
              "      <td>0</td>\n",
              "      <td>1</td>\n",
              "    </tr>\n",
              "    <tr>\n",
              "      <th>94322</th>\n",
              "      <td>2008</td>\n",
              "      <td>1799</td>\n",
              "      <td>88102</td>\n",
              "      <td>145</td>\n",
              "      <td>46.3</td>\n",
              "      <td>1.2</td>\n",
              "      <td>0.025918</td>\n",
              "      <td>0</td>\n",
              "      <td>0</td>\n",
              "      <td>0</td>\n",
              "      <td>...</td>\n",
              "      <td>0</td>\n",
              "      <td>0</td>\n",
              "      <td>0</td>\n",
              "      <td>0</td>\n",
              "      <td>0</td>\n",
              "      <td>0</td>\n",
              "      <td>0</td>\n",
              "      <td>0</td>\n",
              "      <td>0</td>\n",
              "      <td>1</td>\n",
              "    </tr>\n",
              "    <tr>\n",
              "      <th>94323</th>\n",
              "      <td>2009</td>\n",
              "      <td>1590</td>\n",
              "      <td>70000</td>\n",
              "      <td>200</td>\n",
              "      <td>42.0</td>\n",
              "      <td>1.4</td>\n",
              "      <td>0.033333</td>\n",
              "      <td>0</td>\n",
              "      <td>0</td>\n",
              "      <td>0</td>\n",
              "      <td>...</td>\n",
              "      <td>0</td>\n",
              "      <td>0</td>\n",
              "      <td>0</td>\n",
              "      <td>0</td>\n",
              "      <td>0</td>\n",
              "      <td>0</td>\n",
              "      <td>0</td>\n",
              "      <td>0</td>\n",
              "      <td>0</td>\n",
              "      <td>1</td>\n",
              "    </tr>\n",
              "    <tr>\n",
              "      <th>94324</th>\n",
              "      <td>2006</td>\n",
              "      <td>1250</td>\n",
              "      <td>82704</td>\n",
              "      <td>150</td>\n",
              "      <td>46.3</td>\n",
              "      <td>1.2</td>\n",
              "      <td>0.025918</td>\n",
              "      <td>0</td>\n",
              "      <td>0</td>\n",
              "      <td>0</td>\n",
              "      <td>...</td>\n",
              "      <td>0</td>\n",
              "      <td>0</td>\n",
              "      <td>0</td>\n",
              "      <td>0</td>\n",
              "      <td>0</td>\n",
              "      <td>0</td>\n",
              "      <td>0</td>\n",
              "      <td>0</td>\n",
              "      <td>0</td>\n",
              "      <td>1</td>\n",
              "    </tr>\n",
              "    <tr>\n",
              "      <th>94325</th>\n",
              "      <td>2007</td>\n",
              "      <td>2295</td>\n",
              "      <td>74000</td>\n",
              "      <td>145</td>\n",
              "      <td>46.3</td>\n",
              "      <td>1.2</td>\n",
              "      <td>0.025918</td>\n",
              "      <td>0</td>\n",
              "      <td>0</td>\n",
              "      <td>0</td>\n",
              "      <td>...</td>\n",
              "      <td>0</td>\n",
              "      <td>0</td>\n",
              "      <td>0</td>\n",
              "      <td>0</td>\n",
              "      <td>0</td>\n",
              "      <td>0</td>\n",
              "      <td>0</td>\n",
              "      <td>0</td>\n",
              "      <td>0</td>\n",
              "      <td>1</td>\n",
              "    </tr>\n",
              "  </tbody>\n",
              "</table>\n",
              "<p>10 rows × 193 columns</p>\n",
              "</div>\n",
              "      <button class=\"colab-df-convert\" onclick=\"convertToInteractive('df-dda522c6-4581-4eec-b017-58544909b7e7')\"\n",
              "              title=\"Convert this dataframe to an interactive table.\"\n",
              "              style=\"display:none;\">\n",
              "\n",
              "  <svg xmlns=\"http://www.w3.org/2000/svg\" height=\"24px\"viewBox=\"0 0 24 24\"\n",
              "       width=\"24px\">\n",
              "    <path d=\"M0 0h24v24H0V0z\" fill=\"none\"/>\n",
              "    <path d=\"M18.56 5.44l.94 2.06.94-2.06 2.06-.94-2.06-.94-.94-2.06-.94 2.06-2.06.94zm-11 1L8.5 8.5l.94-2.06 2.06-.94-2.06-.94L8.5 2.5l-.94 2.06-2.06.94zm10 10l.94 2.06.94-2.06 2.06-.94-2.06-.94-.94-2.06-.94 2.06-2.06.94z\"/><path d=\"M17.41 7.96l-1.37-1.37c-.4-.4-.92-.59-1.43-.59-.52 0-1.04.2-1.43.59L10.3 9.45l-7.72 7.72c-.78.78-.78 2.05 0 2.83L4 21.41c.39.39.9.59 1.41.59.51 0 1.02-.2 1.41-.59l7.78-7.78 2.81-2.81c.8-.78.8-2.07 0-2.86zM5.41 20L4 18.59l7.72-7.72 1.47 1.35L5.41 20z\"/>\n",
              "  </svg>\n",
              "      </button>\n",
              "\n",
              "\n",
              "\n",
              "    <div id=\"df-c2eb4fb0-e24e-4927-a4ae-2af924139c92\">\n",
              "      <button class=\"colab-df-quickchart\" onclick=\"quickchart('df-c2eb4fb0-e24e-4927-a4ae-2af924139c92')\"\n",
              "              title=\"Suggest charts.\"\n",
              "              style=\"display:none;\">\n",
              "\n",
              "<svg xmlns=\"http://www.w3.org/2000/svg\" height=\"24px\"viewBox=\"0 0 24 24\"\n",
              "     width=\"24px\">\n",
              "    <g>\n",
              "        <path d=\"M19 3H5c-1.1 0-2 .9-2 2v14c0 1.1.9 2 2 2h14c1.1 0 2-.9 2-2V5c0-1.1-.9-2-2-2zM9 17H7v-7h2v7zm4 0h-2V7h2v10zm4 0h-2v-4h2v4z\"/>\n",
              "    </g>\n",
              "</svg>\n",
              "      </button>\n",
              "    </div>\n",
              "\n",
              "<style>\n",
              "  .colab-df-quickchart {\n",
              "    background-color: #E8F0FE;\n",
              "    border: none;\n",
              "    border-radius: 50%;\n",
              "    cursor: pointer;\n",
              "    display: none;\n",
              "    fill: #1967D2;\n",
              "    height: 32px;\n",
              "    padding: 0 0 0 0;\n",
              "    width: 32px;\n",
              "  }\n",
              "\n",
              "  .colab-df-quickchart:hover {\n",
              "    background-color: #E2EBFA;\n",
              "    box-shadow: 0px 1px 2px rgba(60, 64, 67, 0.3), 0px 1px 3px 1px rgba(60, 64, 67, 0.15);\n",
              "    fill: #174EA6;\n",
              "  }\n",
              "\n",
              "  [theme=dark] .colab-df-quickchart {\n",
              "    background-color: #3B4455;\n",
              "    fill: #D2E3FC;\n",
              "  }\n",
              "\n",
              "  [theme=dark] .colab-df-quickchart:hover {\n",
              "    background-color: #434B5C;\n",
              "    box-shadow: 0px 1px 3px 1px rgba(0, 0, 0, 0.15);\n",
              "    filter: drop-shadow(0px 1px 2px rgba(0, 0, 0, 0.3));\n",
              "    fill: #FFFFFF;\n",
              "  }\n",
              "</style>\n",
              "\n",
              "    <script>\n",
              "      async function quickchart(key) {\n",
              "        const containerElement = document.querySelector('#' + key);\n",
              "        const charts = await google.colab.kernel.invokeFunction(\n",
              "            'suggestCharts', [key], {});\n",
              "      }\n",
              "    </script>\n",
              "\n",
              "      <script>\n",
              "\n",
              "function displayQuickchartButton(domScope) {\n",
              "  let quickchartButtonEl =\n",
              "    domScope.querySelector('#df-c2eb4fb0-e24e-4927-a4ae-2af924139c92 button.colab-df-quickchart');\n",
              "  quickchartButtonEl.style.display =\n",
              "    google.colab.kernel.accessAllowed ? 'block' : 'none';\n",
              "}\n",
              "\n",
              "        displayQuickchartButton(document);\n",
              "      </script>\n",
              "      <style>\n",
              "    .colab-df-container {\n",
              "      display:flex;\n",
              "      flex-wrap:wrap;\n",
              "      gap: 12px;\n",
              "    }\n",
              "\n",
              "    .colab-df-convert {\n",
              "      background-color: #E8F0FE;\n",
              "      border: none;\n",
              "      border-radius: 50%;\n",
              "      cursor: pointer;\n",
              "      display: none;\n",
              "      fill: #1967D2;\n",
              "      height: 32px;\n",
              "      padding: 0 0 0 0;\n",
              "      width: 32px;\n",
              "    }\n",
              "\n",
              "    .colab-df-convert:hover {\n",
              "      background-color: #E2EBFA;\n",
              "      box-shadow: 0px 1px 2px rgba(60, 64, 67, 0.3), 0px 1px 3px 1px rgba(60, 64, 67, 0.15);\n",
              "      fill: #174EA6;\n",
              "    }\n",
              "\n",
              "    [theme=dark] .colab-df-convert {\n",
              "      background-color: #3B4455;\n",
              "      fill: #D2E3FC;\n",
              "    }\n",
              "\n",
              "    [theme=dark] .colab-df-convert:hover {\n",
              "      background-color: #434B5C;\n",
              "      box-shadow: 0px 1px 3px 1px rgba(0, 0, 0, 0.15);\n",
              "      filter: drop-shadow(0px 1px 2px rgba(0, 0, 0, 0.3));\n",
              "      fill: #FFFFFF;\n",
              "    }\n",
              "  </style>\n",
              "\n",
              "      <script>\n",
              "        const buttonEl =\n",
              "          document.querySelector('#df-dda522c6-4581-4eec-b017-58544909b7e7 button.colab-df-convert');\n",
              "        buttonEl.style.display =\n",
              "          google.colab.kernel.accessAllowed ? 'block' : 'none';\n",
              "\n",
              "        async function convertToInteractive(key) {\n",
              "          const element = document.querySelector('#df-dda522c6-4581-4eec-b017-58544909b7e7');\n",
              "          const dataTable =\n",
              "            await google.colab.kernel.invokeFunction('convertToInteractive',\n",
              "                                                     [key], {});\n",
              "          if (!dataTable) return;\n",
              "\n",
              "          const docLinkHtml = 'Like what you see? Visit the ' +\n",
              "            '<a target=\"_blank\" href=https://colab.research.google.com/notebooks/data_table.ipynb>data table notebook</a>'\n",
              "            + ' to learn more about interactive tables.';\n",
              "          element.innerHTML = '';\n",
              "          dataTable['output_type'] = 'display_data';\n",
              "          await google.colab.output.renderOutput(dataTable, element);\n",
              "          const docLink = document.createElement('div');\n",
              "          docLink.innerHTML = docLinkHtml;\n",
              "          element.appendChild(docLink);\n",
              "        }\n",
              "      </script>\n",
              "    </div>\n",
              "  </div>\n"
            ]
          },
          "metadata": {},
          "execution_count": 6
        }
      ]
    },
    {
      "cell_type": "code",
      "source": [
        "Y_test"
      ],
      "metadata": {
        "colab": {
          "base_uri": "https://localhost:8080/"
        },
        "id": "BqJ7sjRWgOkM",
        "outputId": "2ecad17a-3c35-44d4-acf3-7ddf7a2cb2f2"
      },
      "execution_count": null,
      "outputs": [
        {
          "output_type": "execute_result",
          "data": {
            "text/plain": [
              "51052    45000\n",
              "24585     7695\n",
              "1885     11495\n",
              "25637    10698\n",
              "10059    23000\n",
              "         ...  \n",
              "30685    16800\n",
              "89870    24910\n",
              "63557     7495\n",
              "92752    22500\n",
              "58498    29190\n",
              "Name: price, Length: 18588, dtype: int64"
            ]
          },
          "metadata": {},
          "execution_count": 7
        }
      ]
    },
    {
      "cell_type": "markdown",
      "source": [
        "Первая модель - линейная регрессия, обрабатываю тренировочные файлы, убираю мультиколлинеарность и факторы с низкими P-значениями"
      ],
      "metadata": {
        "id": "vwC-9PqK2rV6"
      }
    },
    {
      "cell_type": "code",
      "source": [
        "dr = set()\n",
        "for item in df.columns:\n",
        "  if (df[item].mean() < 0.005) :\n",
        "    dr.add(item)\n",
        "  elif (df[item].mean() > 0.995):\n",
        "    dr.add(item)\n",
        "df = df.drop(dr, axis = 1)\n",
        "r_max = 0.15\n",
        "df_1 = pd.concat((X_train, Y_train), axis = 1)\n",
        "target = 'price'\n",
        "correlated_features = set()\n",
        "correlation_matrix = df_1.corr()\n",
        "for i in range(len(correlation_matrix.columns)):\n",
        "  for j in range(i):\n",
        "    if abs(correlation_matrix.iloc[i, j]) > r_max and correlation_matrix.columns[i] != target and correlation_matrix.columns[j] != target:\n",
        "      if abs(correlation_matrix[target][correlation_matrix.columns[j]]) > abs(correlation_matrix[target][correlation_matrix.columns[i]]):\n",
        "        correlated_features.add(correlation_matrix.columns[i])\n",
        "      else:\n",
        "        correlated_features.add(correlation_matrix.columns[j])\n",
        "print(correlated_features)\n",
        "X_train = X_train.drop(correlated_features, axis = 1)\n",
        "X_test = X_test.drop(correlated_features, axis = 1)\n",
        "pvalue_max = 0.05\n",
        "model = sm.OLS(np.log(Y_train), sm.add_constant(X_train)).fit()\n",
        "X = X_train\n",
        "while np.max(model.pvalues[1:]) > pvalue_max:\n",
        "  X = X.drop(X.columns[np.argmax(model.pvalues[1:])], axis = 1)\n",
        "  model = sm.OLS(np.log(Y_train), sm.add_constant(X)).fit()\n",
        "print(model.summary())"
      ],
      "metadata": {
        "id": "QFXhjQ5RIHfT"
      },
      "execution_count": null,
      "outputs": []
    },
    {
      "cell_type": "markdown",
      "source": [
        "Модель на тестовой выборке"
      ],
      "metadata": {
        "id": "JyvZWpHH3YXL"
      }
    },
    {
      "cell_type": "code",
      "source": [
        "X_test = X_test[X.columns]\n",
        "predictions = np.exp(model.predict(sm.add_constant(X_test)))\n",
        "results = pd.DataFrame()\n",
        "results['Y_test'] = Y_test\n",
        "results['predictions_OLS'] = predictions.values\n",
        "plt.scatter(results['Y_test'], results['predictions_OLS'])\n",
        "mse_OLS = np.mean((results['Y_test'] - results['predictions_OLS']) ** 2)\n",
        "mse_trivial = np.mean((results['Y_test'] - df_1['price'].mean()) ** 2)"
      ],
      "metadata": {
        "colab": {
          "base_uri": "https://localhost:8080/",
          "height": 265
        },
        "id": "pjXAquOzIOTq",
        "outputId": "d2eb471d-12de-405c-9cff-4a25d34d4070"
      },
      "execution_count": null,
      "outputs": [
        {
          "output_type": "display_data",
          "data": {
            "text/plain": [
              "<Figure size 432x288 with 1 Axes>"
            ],
            "image/png": "[encoded data removed]"
          },
          "metadata": {
            "needs_background": "light"
          }
        }
      ]
    },
    {
      "cell_type": "markdown",
      "source": [
        "Построил модель решающего дерева. В этой и дальнейших моделях использую выборки без отсева мультиколлинеарности и факторов с низкими P-значениями"
      ],
      "metadata": {
        "id": "XbYOWO-r3ftq"
      }
    },
    {
      "cell_type": "code",
      "source": [
        "import sklearn\n",
        "from sklearn import tree\n",
        "decision_tree = tree.DecisionTreeRegressor(max_depth = 80, min_samples_leaf = 40, min_impurity_decrease = 0.01).fit(X_train_not_for_ols, Y_train_not_for_ols)\n",
        "pred_tree = decision_tree.predict(X_test_not_for_ols)\n",
        "results['predictions_dt'] = pred_tree\n",
        "mse_decision_tree = np.mean((results['Y_test'] - results['predictions_dt']) ** 2)"
      ],
      "metadata": {
        "id": "VGP3Z5nvIdTy"
      },
      "execution_count": null,
      "outputs": []
    },
    {
      "cell_type": "markdown",
      "source": [
        "Модель случайного леса"
      ],
      "metadata": {
        "id": "1XOonGlW4imt"
      }
    },
    {
      "cell_type": "code",
      "source": [
        "from sklearn import ensemble\n",
        "rf = sklearn.ensemble.RandomForestClassifier(n_estimators = 1100, max_depth = 7, min_impurity_decrease = 0.00003, min_samples_leaf = 700).fit(X_train_not_for_ols, Y_train_not_for_ols)\n",
        "pred_rf = rf.predict(X_test_not_for_ols)\n",
        "results['predictions_rf'] = pred_rf\n",
        "mse_random_forest = np.mean((results['Y_test'] - results['predictions_rf']) ** 2)"
      ],
      "metadata": {
        "id": "BjJSibvUIz_i"
      },
      "execution_count": null,
      "outputs": []
    },
    {
      "cell_type": "markdown",
      "source": [
        "Градиентный бустинг"
      ],
      "metadata": {
        "id": "3_K9GseE4qp6"
      }
    },
    {
      "cell_type": "code",
      "source": [
        "gb = sklearn.ensemble.GradientBoostingRegressor(n_estimators = 1000, learning_rate = 0.05, max_depth = 15, min_impurity_decrease = 0.0001, min_samples_leaf = 150).fit(X_train_not_for_ols, Y_train_not_for_ols)\n",
        "gradient = gb.predict(X_test_not_for_ols)\n",
        "results['predictions_gb'] = gradient\n",
        "mse_gradient_boosting = np.mean((results['Y_test'] - results['predictions_gb']) ** 2)"
      ],
      "metadata": {
        "id": "GTtGn3AtJevc"
      },
      "execution_count": null,
      "outputs": []
    },
    {
      "cell_type": "markdown",
      "source": [
        "Нейросеть"
      ],
      "metadata": {
        "id": "OUYYfMDJ4ttr"
      }
    },
    {
      "cell_type": "code",
      "source": [
        "from sklearn.neural_network import MLPRegressor\n",
        "nn = MLPRegressor(activation='relu', alpha=0.0001,  learning_rate='constant', learning_rate_init=0.001, max_iter=50000).fit(X_train_not_for_ols, Y_train_not_for_ols)\n",
        "pred_nn = nn.predict(X_test_not_for_ols)\n",
        "results['predictions_nn'] = pred_nn\n",
        "mse_nn = np.mean((results['Y_test'] - results['predictions_nn']) ** 2)\n"
      ],
      "metadata": {
        "id": "56-lq9vcLe27"
      },
      "execution_count": null,
      "outputs": []
    },
    {
      "cell_type": "markdown",
      "source": [
        "В словарь добавил виды машинного обучения и полученные среднеквадратичные ошибки, вывел наилучший способ и значение"
      ],
      "metadata": {
        "id": "kQpQZhCQ4xVC"
      }
    },
    {
      "cell_type": "code",
      "source": [
        "dict_ml = {'OLS' : mse_OLS, 'decision tree' : mse_decision_tree, 'random forest' : mse_random_forest, 'gradient boosting' : mse_gradient_boosting, 'neural network' : mse_nn, 'trivial' : mse_trivial}\n",
        "sorted_tuples = sorted(dict_ml.items(), key=lambda item: item[1])\n",
        "sorted_dict = {k: v for k, v in sorted_tuples}\n",
        "sorted_dict\n",
        "print('Минимальное значение среднеквадратичной ошибки достигается при методе машинного обучения',min(dict_ml, key = dict_ml.get), 'с результатом ', dict_ml[min(dict_ml, key = dict_ml.get)].astype(int))"
      ],
      "metadata": {
        "colab": {
          "base_uri": "https://localhost:8080/"
        },
        "id": "xrh_ucP8v_PH",
        "outputId": "78021193-bdf0-479a-bc59-15c200d8290b"
      },
      "execution_count": null,
      "outputs": [
        {
          "output_type": "stream",
          "name": "stdout",
          "text": [
            "Минимальное значение среднеквадратичной ошибки достигается при методе машинного обучения gradient boosting с результатом  5496826\n"
          ]
        }
      ]
    },
    {
      "cell_type": "code",
      "source": [
        "dict_ml"
      ],
      "metadata": {
        "colab": {
          "base_uri": "https://localhost:8080/"
        },
        "id": "oWK8BnH2U-Rp",
        "outputId": "da4ea701-1b23-4fa2-c287-84455174327f"
      },
      "execution_count": null,
      "outputs": [
        {
          "output_type": "execute_result",
          "data": {
            "text/plain": [
              "{'OLS': 27355398.036800086,\n",
              " 'decision tree': 10224482.160376998,\n",
              " 'random forest': 53754085.783354856,\n",
              " 'gradient boosting': 5496999.317626082,\n",
              " 'neural network': 10811527.492463812,\n",
              " 'trivial': 101025529.18629645}"
            ]
          },
          "metadata": {},
          "execution_count": 42
        }
      ]
    },
    {
      "cell_type": "markdown",
      "source": [
        "Сформировал график для словаря выше"
      ],
      "metadata": {
        "id": "ts5-gTnu5P8L"
      }
    },
    {
      "cell_type": "code",
      "source": [
        "plt.barh(range(len(sorted_dict)), list(sorted_dict.values()),  edgecolor=\"black\", linewidth=0.7, color = 'maroon')\n",
        "plt.yticks(range(len(sorted_dict)), list(sorted_dict.keys()))\n",
        "plt.grid()\n",
        "plt.title('График среднеквадратичной ошибки', color = 'brown', weight = 'bold')\n",
        "plt.show()"
      ],
      "metadata": {
        "colab": {
          "base_uri": "https://localhost:8080/",
          "height": 294
        },
        "id": "ChXHqhiox3KC",
        "outputId": "29615588-2eed-4a68-a5ab-17b4416d2597"
      },
      "execution_count": null,
      "outputs": [
        {
          "output_type": "display_data",
          "data": {
            "text/plain": [
              "<Figure size 432x288 with 1 Axes>"
            ],
            "image/png": "[encoded data removed]"
          },
          "metadata": {
            "needs_background": "light"
          }
        }
      ]
    },
    {
      "cell_type": "code",
      "source": [
        "results.to_excel('/content/predictions_price_for_cars.xlsx')"
      ],
      "metadata": {
        "id": "Cat5YpYh8eI0"
      },
      "execution_count": null,
      "outputs": []
    },
    {
      "cell_type": "code",
      "source": [
        "results"
      ],
      "metadata": {
        "id": "DMjrUyKjzsbL",
        "outputId": "f4539b6c-e5c1-4417-fe19-95cd4ab38926",
        "colab": {
          "base_uri": "https://localhost:8080/",
          "height": 424
        }
      },
      "execution_count": null,
      "outputs": [
        {
          "output_type": "execute_result",
          "data": {
            "text/plain": [
              "       Y_test  predictions_OLS  predictions_dt  predictions_rf  \\\n",
              "51052   45000     27582.002139    25811.150000           19995   \n",
              "24585    7695     11123.885957     7648.279070            9995   \n",
              "1885    11495     10622.592767    11174.764706           19995   \n",
              "25637   10698     13103.208323     9966.615385            9995   \n",
              "10059   23000     12477.415453    19664.980769           19995   \n",
              "...       ...              ...             ...             ...   \n",
              "30685   16800     18078.643980    16283.629032            9995   \n",
              "89870   24910     27716.837295    26162.794118           19995   \n",
              "63557    7495      9973.381895     7983.411765            6995   \n",
              "92752   22500     24063.472408    24123.562500           19995   \n",
              "58498   29190     23752.047274    29785.140000           19995   \n",
              "\n",
              "       predictions_gb  predictions_nn  \n",
              "51052    26678.355934    20196.024760  \n",
              "24585     7548.413681     7173.956436  \n",
              "1885     12484.458079     9871.644310  \n",
              "25637    10043.824656     9128.662504  \n",
              "10059    19948.478921    18776.736705  \n",
              "...               ...             ...  \n",
              "30685    15744.433457    14135.707751  \n",
              "89870    28229.994776    25519.649416  \n",
              "63557     8056.393338     6923.872028  \n",
              "92752    23266.634947    24474.008779  \n",
              "58498    29069.257299    29425.443518  \n",
              "\n",
              "[18588 rows x 6 columns]"
            ],
            "text/html": [
              "\n",
              "  <div id=\"df-caf50a20-4369-43f2-8375-ef2c402d2e58\">\n",
              "    <div class=\"colab-df-container\">\n",
              "      <div>\n",
              "<style scoped>\n",
              "    .dataframe tbody tr th:only-of-type {\n",
              "        vertical-align: middle;\n",
              "    }\n",
              "\n",
              "    .dataframe tbody tr th {\n",
              "        vertical-align: top;\n",
              "    }\n",
              "\n",
              "    .dataframe thead th {\n",
              "        text-align: right;\n",
              "    }\n",
              "</style>\n",
              "<table border=\"1\" class=\"dataframe\">\n",
              "  <thead>\n",
              "    <tr style=\"text-align: right;\">\n",
              "      <th></th>\n",
              "      <th>Y_test</th>\n",
              "      <th>predictions_OLS</th>\n",
              "      <th>predictions_dt</th>\n",
              "      <th>predictions_rf</th>\n",
              "      <th>predictions_gb</th>\n",
              "      <th>predictions_nn</th>\n",
              "    </tr>\n",
              "  </thead>\n",
              "  <tbody>\n",
              "    <tr>\n",
              "      <th>51052</th>\n",
              "      <td>45000</td>\n",
              "      <td>27582.002139</td>\n",
              "      <td>25811.150000</td>\n",
              "      <td>19995</td>\n",
              "      <td>26678.355934</td>\n",
              "      <td>20196.024760</td>\n",
              "    </tr>\n",
              "    <tr>\n",
              "      <th>24585</th>\n",
              "      <td>7695</td>\n",
              "      <td>11123.885957</td>\n",
              "      <td>7648.279070</td>\n",
              "      <td>9995</td>\n",
              "      <td>7548.413681</td>\n",
              "      <td>7173.956436</td>\n",
              "    </tr>\n",
              "    <tr>\n",
              "      <th>1885</th>\n",
              "      <td>11495</td>\n",
              "      <td>10622.592767</td>\n",
              "      <td>11174.764706</td>\n",
              "      <td>19995</td>\n",
              "      <td>12484.458079</td>\n",
              "      <td>9871.644310</td>\n",
              "    </tr>\n",
              "    <tr>\n",
              "      <th>25637</th>\n",
              "      <td>10698</td>\n",
              "      <td>13103.208323</td>\n",
              "      <td>9966.615385</td>\n",
              "      <td>9995</td>\n",
              "      <td>10043.824656</td>\n",
              "      <td>9128.662504</td>\n",
              "    </tr>\n",
              "    <tr>\n",
              "      <th>10059</th>\n",
              "      <td>23000</td>\n",
              "      <td>12477.415453</td>\n",
              "      <td>19664.980769</td>\n",
              "      <td>19995</td>\n",
              "      <td>19948.478921</td>\n",
              "      <td>18776.736705</td>\n",
              "    </tr>\n",
              "    <tr>\n",
              "      <th>...</th>\n",
              "      <td>...</td>\n",
              "      <td>...</td>\n",
              "      <td>...</td>\n",
              "      <td>...</td>\n",
              "      <td>...</td>\n",
              "      <td>...</td>\n",
              "    </tr>\n",
              "    <tr>\n",
              "      <th>30685</th>\n",
              "      <td>16800</td>\n",
              "      <td>18078.643980</td>\n",
              "      <td>16283.629032</td>\n",
              "      <td>9995</td>\n",
              "      <td>15744.433457</td>\n",
              "      <td>14135.707751</td>\n",
              "    </tr>\n",
              "    <tr>\n",
              "      <th>89870</th>\n",
              "      <td>24910</td>\n",
              "      <td>27716.837295</td>\n",
              "      <td>26162.794118</td>\n",
              "      <td>19995</td>\n",
              "      <td>28229.994776</td>\n",
              "      <td>25519.649416</td>\n",
              "    </tr>\n",
              "    <tr>\n",
              "      <th>63557</th>\n",
              "      <td>7495</td>\n",
              "      <td>9973.381895</td>\n",
              "      <td>7983.411765</td>\n",
              "      <td>6995</td>\n",
              "      <td>8056.393338</td>\n",
              "      <td>6923.872028</td>\n",
              "    </tr>\n",
              "    <tr>\n",
              "      <th>92752</th>\n",
              "      <td>22500</td>\n",
              "      <td>24063.472408</td>\n",
              "      <td>24123.562500</td>\n",
              "      <td>19995</td>\n",
              "      <td>23266.634947</td>\n",
              "      <td>24474.008779</td>\n",
              "    </tr>\n",
              "    <tr>\n",
              "      <th>58498</th>\n",
              "      <td>29190</td>\n",
              "      <td>23752.047274</td>\n",
              "      <td>29785.140000</td>\n",
              "      <td>19995</td>\n",
              "      <td>29069.257299</td>\n",
              "      <td>29425.443518</td>\n",
              "    </tr>\n",
              "  </tbody>\n",
              "</table>\n",
              "<p>18588 rows × 6 columns</p>\n",
              "</div>\n",
              "      <button class=\"colab-df-convert\" onclick=\"convertToInteractive('df-caf50a20-4369-43f2-8375-ef2c402d2e58')\"\n",
              "              title=\"Convert this dataframe to an interactive table.\"\n",
              "              style=\"display:none;\">\n",
              "        \n",
              "  <svg xmlns=\"http://www.w3.org/2000/svg\" height=\"24px\"viewBox=\"0 0 24 24\"\n",
              "       width=\"24px\">\n",
              "    <path d=\"M0 0h24v24H0V0z\" fill=\"none\"/>\n",
              "    <path d=\"M18.56 5.44l.94 2.06.94-2.06 2.06-.94-2.06-.94-.94-2.06-.94 2.06-2.06.94zm-11 1L8.5 8.5l.94-2.06 2.06-.94-2.06-.94L8.5 2.5l-.94 2.06-2.06.94zm10 10l.94 2.06.94-2.06 2.06-.94-2.06-.94-.94-2.06-.94 2.06-2.06.94z\"/><path d=\"M17.41 7.96l-1.37-1.37c-.4-.4-.92-.59-1.43-.59-.52 0-1.04.2-1.43.59L10.3 9.45l-7.72 7.72c-.78.78-.78 2.05 0 2.83L4 21.41c.39.39.9.59 1.41.59.51 0 1.02-.2 1.41-.59l7.78-7.78 2.81-2.81c.8-.78.8-2.07 0-2.86zM5.41 20L4 18.59l7.72-7.72 1.47 1.35L5.41 20z\"/>\n",
              "  </svg>\n",
              "      </button>\n",
              "      \n",
              "  <style>\n",
              "    .colab-df-container {\n",
              "      display:flex;\n",
              "      flex-wrap:wrap;\n",
              "      gap: 12px;\n",
              "    }\n",
              "\n",
              "    .colab-df-convert {\n",
              "      background-color: #E8F0FE;\n",
              "      border: none;\n",
              "      border-radius: 50%;\n",
              "      cursor: pointer;\n",
              "      display: none;\n",
              "      fill: #1967D2;\n",
              "      height: 32px;\n",
              "      padding: 0 0 0 0;\n",
              "      width: 32px;\n",
              "    }\n",
              "\n",
              "    .colab-df-convert:hover {\n",
              "      background-color: #E2EBFA;\n",
              "      box-shadow: 0px 1px 2px rgba(60, 64, 67, 0.3), 0px 1px 3px 1px rgba(60, 64, 67, 0.15);\n",
              "      fill: #174EA6;\n",
              "    }\n",
              "\n",
              "    [theme=dark] .colab-df-convert {\n",
              "      background-color: #3B4455;\n",
              "      fill: #D2E3FC;\n",
              "    }\n",
              "\n",
              "    [theme=dark] .colab-df-convert:hover {\n",
              "      background-color: #434B5C;\n",
              "      box-shadow: 0px 1px 3px 1px rgba(0, 0, 0, 0.15);\n",
              "      filter: drop-shadow(0px 1px 2px rgba(0, 0, 0, 0.3));\n",
              "      fill: #FFFFFF;\n",
              "    }\n",
              "  </style>\n",
              "\n",
              "      <script>\n",
              "        const buttonEl =\n",
              "          document.querySelector('#df-caf50a20-4369-43f2-8375-ef2c402d2e58 button.colab-df-convert');\n",
              "        buttonEl.style.display =\n",
              "          google.colab.kernel.accessAllowed ? 'block' : 'none';\n",
              "\n",
              "        async function convertToInteractive(key) {\n",
              "          const element = document.querySelector('#df-caf50a20-4369-43f2-8375-ef2c402d2e58');\n",
              "          const dataTable =\n",
              "            await google.colab.kernel.invokeFunction('convertToInteractive',\n",
              "                                                     [key], {});\n",
              "          if (!dataTable) return;\n",
              "\n",
              "          const docLinkHtml = 'Like what you see? Visit the ' +\n",
              "            '<a target=\"_blank\" href=https://colab.research.google.com/notebooks/data_table.ipynb>data table notebook</a>'\n",
              "            + ' to learn more about interactive tables.';\n",
              "          element.innerHTML = '';\n",
              "          dataTable['output_type'] = 'display_data';\n",
              "          await google.colab.output.renderOutput(dataTable, element);\n",
              "          const docLink = document.createElement('div');\n",
              "          docLink.innerHTML = docLinkHtml;\n",
              "          element.appendChild(docLink);\n",
              "        }\n",
              "      </script>\n",
              "    </div>\n",
              "  </div>\n",
              "  "
            ]
          },
          "metadata": {},
          "execution_count": 11
        }
      ]
    },
    {
      "cell_type": "code",
      "source": [
        "from sklearn. metrics import mean_absolute_error as mae"
      ],
      "metadata": {
        "id": "uFBUigzm-vto"
      },
      "execution_count": null,
      "outputs": []
    },
    {
      "cell_type": "code",
      "source": [
        "results['trivial'] = results['Y_test'].mean()"
      ],
      "metadata": {
        "id": "O94-LXUVDlKu"
      },
      "execution_count": null,
      "outputs": []
    },
    {
      "cell_type": "code",
      "source": [
        "mae_OLS = mae(results['Y_test'], results['predictions_OLS'])\n",
        "mae_dt = mae(results['Y_test'], results['predictions_dt'])\n",
        "mae_rf = mae(results['Y_test'], results['predictions_rf'])\n",
        "mae_gb = mae(results['Y_test'], results['predictions_gb'])\n",
        "mae_nn = mae(results['Y_test'], results['predictions_nn'])\n",
        "mae_trivial = mae(results['Y_test'], results['trivial'])"
      ],
      "metadata": {
        "id": "Q1v8w6uA_aYU"
      },
      "execution_count": null,
      "outputs": []
    },
    {
      "cell_type": "code",
      "source": [
        "dict_mae = {'OLS' : mae_OLS, 'decision tree' : mae_dt, 'random forest' : mae_rf, 'gradient boosting' : mae_gb, 'neural network' : mae_nn, 'trivial' : mae_trivial}\n",
        "sorted_tuples = sorted(dict_mae.items(), key=lambda item: item[1])\n",
        "sorted_dict = {k: v for k, v in sorted_tuples}\n",
        "sorted_dict\n",
        "print('Минимальное значение средней абсолютной ошибки достигается при методе машинного обучения',min(dict_mae, key = dict_mae.get), 'с результатом ', dict_mae[min(dict_mae, key = dict_mae.get)].astype(int))"
      ],
      "metadata": {
        "colab": {
          "base_uri": "https://localhost:8080/"
        },
        "id": "gg417t8QARhn",
        "outputId": "d3c4241b-0c60-4efe-feab-e4b06a096e94"
      },
      "execution_count": null,
      "outputs": [
        {
          "output_type": "stream",
          "name": "stdout",
          "text": [
            "Минимальное значение средней абсолютной ошибки достигается при методе машинного обучения gradient boosting с результатом  1260\n"
          ]
        }
      ]
    },
    {
      "cell_type": "code",
      "source": [
        "dict_mae"
      ],
      "metadata": {
        "colab": {
          "base_uri": "https://localhost:8080/"
        },
        "id": "OxCq3rv1Vbyo",
        "outputId": "06e62d1a-ed3a-413f-b687-540183c45e32"
      },
      "execution_count": null,
      "outputs": [
        {
          "output_type": "execute_result",
          "data": {
            "text/plain": [
              "{'OLS': 3238.9275790206207,\n",
              " 'decision tree': 1664.5703281712094,\n",
              " 'random forest': 4354.775930707983,\n",
              " 'gradient boosting': 1260.623507948324,\n",
              " 'neural network': 1946.6186752900633,\n",
              " 'trivial': 7189.2777744436125}"
            ]
          },
          "metadata": {},
          "execution_count": 43
        }
      ]
    },
    {
      "cell_type": "code",
      "source": [
        "plt.barh(range(len(sorted_dict)), list(sorted_dict.values()),  edgecolor=\"black\", linewidth=0.7, color = 'maroon')\n",
        "plt.yticks(range(len(sorted_dict)), list(sorted_dict.keys()))\n",
        "plt.grid()\n",
        "plt.title('График cредней абсолютной погрешности', color = 'brown', weight = 'bold')\n",
        "plt.show()"
      ],
      "metadata": {
        "colab": {
          "base_uri": "https://localhost:8080/",
          "height": 281
        },
        "id": "gn3KgWlQGXi1",
        "outputId": "649f6177-0898-4968-ea26-ddb6809a7403"
      },
      "execution_count": null,
      "outputs": [
        {
          "output_type": "display_data",
          "data": {
            "text/plain": [
              "<Figure size 432x288 with 1 Axes>"
            ],
            "image/png": "[encoded data removed]"
          },
          "metadata": {
            "needs_background": "light"
          }
        }
      ]
    },
    {
      "cell_type": "code",
      "source": [
        "from sklearn. metrics import mean_absolute_percentage_error as mape"
      ],
      "metadata": {
        "id": "ErFRFqWmCr3t"
      },
      "execution_count": null,
      "outputs": []
    },
    {
      "cell_type": "code",
      "source": [
        "mape_OLS = mape(results['Y_test'], results['predictions_OLS'])\n",
        "mape_dt = mape(results['Y_test'], results['predictions_dt'])\n",
        "mape_rf = mape(results['Y_test'], results['predictions_rf'])\n",
        "mape_gb = mape(results['Y_test'], results['predictions_gb'])\n",
        "mape_nn = mape(results['Y_test'], results['predictions_nn'])\n",
        "mape_trivial = mape(results['Y_test'], results['trivial'])\n",
        "dict_mape = {'OLS' : mape_OLS, 'decision tree' : mape_dt, 'random forest' : mape_rf, 'gradient boosting' : mape_gb, 'neural networ' : mape_nn, 'trivial' : mape_trivial}\n",
        "sorted_tuples = sorted(dict_mape.items(), key=lambda item: item[1])\n",
        "sorted_dict = {k: v for k, v in sorted_tuples}\n",
        "sorted_dict\n",
        "print('Минимальное значение cредней абсолютной процентной погрешности достигается при методе машинного обучения',min(dict_mape, key = dict_mape.get), 'с результатом ', dict_mape[min(dict_mape, key = dict_mape.get)].astype(float))"
      ],
      "metadata": {
        "colab": {
          "base_uri": "https://localhost:8080/"
        },
        "id": "wjZJySNMC0FE",
        "outputId": "abf9bf01-089b-4a0e-cc1a-ce116db0da96"
      },
      "execution_count": null,
      "outputs": [
        {
          "output_type": "stream",
          "name": "stdout",
          "text": [
            "Минимальное значение cредней абсолютной процентной погрешности достигается при методе машинного обучения gradient boosting с результатом  0.07707215452172725\n"
          ]
        }
      ]
    },
    {
      "cell_type": "code",
      "source": [
        "dict_mape"
      ],
      "metadata": {
        "colab": {
          "base_uri": "https://localhost:8080/"
        },
        "id": "6EhjM6PWVowY",
        "outputId": "1f2d9006-24d5-4d3c-db6f-7420f319f9eb"
      },
      "execution_count": null,
      "outputs": [
        {
          "output_type": "execute_result",
          "data": {
            "text/plain": [
              "{'OLS': 0.1997803386417073,\n",
              " 'decision tree': 0.10081470838232007,\n",
              " 'random forest': 0.26185876237059297,\n",
              " 'gradient boosting': 0.07707215452172725,\n",
              " 'neural networ': 0.13157613150124847,\n",
              " 'trivial': 0.5633158017476726}"
            ]
          },
          "metadata": {},
          "execution_count": 44
        }
      ]
    },
    {
      "cell_type": "code",
      "source": [
        "plt.barh(range(len(sorted_dict)), list(sorted_dict.values()),  edgecolor=\"black\", linewidth=0.7, color = 'maroon')\n",
        "plt.yticks(range(len(sorted_dict)), list(sorted_dict.keys()))\n",
        "plt.grid()\n",
        "plt.title('График cредней абсолютной процентной погрешности', color = 'brown', weight = 'bold')\n",
        "plt.show()"
      ],
      "metadata": {
        "colab": {
          "base_uri": "https://localhost:8080/",
          "height": 281
        },
        "id": "bM5whsGqGai6",
        "outputId": "139cf5ed-a89b-4d5a-81d4-ab8f26fcebad"
      },
      "execution_count": null,
      "outputs": [
        {
          "output_type": "display_data",
          "data": {
            "text/plain": [
              "<Figure size 432x288 with 1 Axes>"
            ],
            "image/png": "[encoded data removed]"
          },
          "metadata": {
            "needs_background": "light"
          }
        }
      ]
    }
  ]
}